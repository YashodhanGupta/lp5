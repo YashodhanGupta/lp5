{
 "cells": [
  {
   "cell_type": "code",
   "execution_count": null,
   "metadata": {},
   "outputs": [],
   "source": [
    "# Import necessary libraries\n",
    "from keras.datasets import fashion_mnist\n",
    "from keras.utils import to_categorical\n",
    "from keras.models import Sequential\n",
    "from keras.layers import Conv2D, MaxPooling2D, Flatten, Dense, LeakyReLU, Dropout\n",
    "from sklearn.model_selection import train_test_split\n",
    "import matplotlib.pyplot as plt\n",
    "from sklearn.metrics import classification_report\n",
    "import keras\n",
    "import numpy as np"
   ]
  },
  {
   "cell_type": "code",
   "execution_count": null,
   "metadata": {
    "colab": {
     "base_uri": "https://localhost:8080/"
    },
    "id": "EhN5eW6W5w0j",
    "outputId": "f687e464-cfa3-4bd9-8b36-d23b86526ac7"
   },
   "outputs": [],
   "source": [
    "# Load and preprocess data\n",
    "(train_X, train_Y), (test_X, test_Y) = fashion_mnist.load_data()"
   ]
  },
  {
   "cell_type": "code",
   "execution_count": null,
   "metadata": {
    "colab": {
     "base_uri": "https://localhost:8080/"
    },
    "id": "C17-u6OZ52sm",
    "outputId": "11caf510-f89d-4a44-d5f2-a42d0b0ab553"
   },
   "outputs": [],
   "source": [
    "# Reshape and normalize images\n",
    "train_X = train_X.reshape(-1, 28, 28, 1).astype('float32') / 255.\n",
    "test_X = test_X.reshape(-1, 28, 28, 1).astype('float32') / 255."
   ]
  },
  {
   "cell_type": "code",
   "execution_count": null,
   "metadata": {
    "colab": {
     "base_uri": "https://localhost:8080/",
     "height": 276
    },
    "id": "MfMmGAuj6Ahw",
    "outputId": "54770b8e-9260-4ebc-94ad-03e2eacc6430"
   },
   "outputs": [],
   "source": [
    "# One-hot encode labels\n",
    "train_Y_one_hot = to_categorical(train_Y)\n",
    "test_Y_one_hot = to_categorical(test_Y)"
   ]
  },
  {
   "cell_type": "code",
   "execution_count": null,
   "metadata": {
    "colab": {
     "base_uri": "https://localhost:8080/"
    },
    "id": "UdriPFrs6MQO",
    "outputId": "28df0973-0998-4323-8342-f2e3db315997"
   },
   "outputs": [],
   "source": [
    "# Split training data into training and validation sets\n",
    "train_X, valid_X, train_label, valid_label = train_test_split(train_X, train_Y_one_hot, test_size=0.2, random_state=13)"
   ]
  },
  {
   "cell_type": "code",
   "execution_count": null,
   "metadata": {
    "id": "zV5fL4dW6T2A"
   },
   "outputs": [],
   "source": [
    "# Build the CNN model with Dropout\n",
    "fashion_model = Sequential()\n",
    "fashion_model.add(Conv2D(32, kernel_size=(3, 3), activation='linear', padding='same', input_shape=(28, 28, 1)))\n",
    "fashion_model.add(LeakyReLU(alpha=0.1))\n",
    "fashion_model.add(MaxPooling2D((2, 2), padding='same'))\n",
    "fashion_model.add(Dropout(0.25))\n",
    "fashion_model.add(Conv2D(64, (3, 3), activation='linear', padding='same'))\n",
    "fashion_model.add(LeakyReLU(alpha=0.1))\n",
    "fashion_model.add(MaxPooling2D(pool_size=(2, 2), padding='same'))\n",
    "fashion_model.add(Dropout(0.25))\n",
    "fashion_model.add(Conv2D(128, (3, 3), activation='linear', padding='same'))\n",
    "fashion_model.add(LeakyReLU(alpha=0.1))\n",
    "fashion_model.add(MaxPooling2D(pool_size=(2, 2), padding='same'))\n",
    "fashion_model.add(Dropout(0.4))\n",
    "fashion_model.add(Flatten())\n",
    "fashion_model.add(Dense(128, activation='linear'))\n",
    "fashion_model.add(LeakyReLU(alpha=0.1))\n",
    "fashion_model.add(Dropout(0.3))\n",
    "fashion_model.add(Dense(10, activation='softmax'))"
   ]
  },
  {
   "cell_type": "code",
   "execution_count": null,
   "metadata": {
    "colab": {
     "base_uri": "https://localhost:8080/"
    },
    "id": "57_GL_mF6XtF",
    "outputId": "3309d2f2-d567-4e3b-8a73-1a1dd8c8cf23"
   },
   "outputs": [],
   "source": [
    "# Compile the model\n",
    "fashion_model.compile(loss=keras.losses.categorical_crossentropy, optimizer=keras.optimizers.Adam(), metrics=['accuracy'])"
   ]
  },
  {
   "cell_type": "code",
   "execution_count": null,
   "metadata": {
    "id": "2LM04NLy6dFi"
   },
   "outputs": [],
   "source": [
    "\n",
    "# Train the model\n",
    "fashion_train_dropout = fashion_model.fit(train_X, train_label, batch_size=64, epochs=20, verbose=1, validation_data=(valid_X, valid_label))"
   ]
  },
  {
   "cell_type": "code",
   "execution_count": null,
   "metadata": {
    "colab": {
     "base_uri": "https://localhost:8080/"
    },
    "id": "hFlhQ3l66g-p",
    "outputId": "e7cc694d-d123-4ac2-8b23-4e0e018bae59"
   },
   "outputs": [],
   "source": [
    "# Evaluate the model on the test set\n",
    "test_eval = fashion_model.evaluate(test_X, test_Y_one_hot, verbose=1)\n",
    "print('Test loss:', test_eval[0])\n",
    "print('Test accuracy:', test_eval[1])"
   ]
  },
  {
   "cell_type": "code",
   "execution_count": null,
   "metadata": {
    "id": "KCSTgXmd6lcU"
   },
   "outputs": [],
   "source": [
    "# Visualize training and validation accuracy & loss\n",
    "accuracy = fashion_train_dropout.history['accuracy']\n",
    "val_accuracy = fashion_train_dropout.history['val_accuracy']\n",
    "loss = fashion_train_dropout.history['loss']\n",
    "val_loss = fashion_train_dropout.history['val_loss']\n",
    "epochs = range(len(accuracy))"
   ]
  },
  {
   "cell_type": "code",
   "execution_count": null,
   "metadata": {
    "id": "dykCTvSO7bc4"
   },
   "outputs": [],
   "source": [
    "\n",
    "# Plot accuracy\n",
    "plt.plot(epochs, accuracy, 'bo', label='Training accuracy')\n",
    "plt.plot(epochs, val_accuracy, 'b', label='Validation accuracy')\n",
    "plt.title('Training and validation accuracy')\n",
    "plt.legend()"
   ]
  },
  {
   "cell_type": "code",
   "execution_count": null,
   "metadata": {
    "id": "OCOAfNFf7PtW"
   },
   "outputs": [],
   "source": [
    "# Plot loss\n",
    "plt.figure()\n",
    "plt.plot(epochs, loss, 'bo', label='Training loss')\n",
    "plt.plot(epochs, val_loss, 'b', label='Validation loss')\n",
    "plt.title('Training and validation loss')\n",
    "plt.legend()\n",
    "plt.show()"
   ]
  },
  {
   "cell_type": "code",
   "execution_count": null,
   "metadata": {
    "id": "mGzwEjFa7Uhb"
   },
   "outputs": [],
   "source": [
    "# Predict and evaluate correct/incorrect labels\n",
    "predicted_classes = fashion_model.predict(test_X)\n",
    "predicted_classes = np.argmax(np.round(predicted_classes), axis=1)"
   ]
  },
  {
   "cell_type": "code",
   "execution_count": null,
   "metadata": {
    "id": "flwp4t-b_TRy"
   },
   "outputs": [],
   "source": [
    "# Correct predictions\n",
    "correct = np.where(predicted_classes == test_Y)[0]\n",
    "print(\"Found %d correct labels\" % len(correct))\n",
    "for i, correct_idx in enumerate(correct[:9]):\n",
    "    plt.subplot(3, 3, i+1)\n",
    "    plt.imshow(test_X[correct_idx].reshape(28, 28), cmap='gray', interpolation='none')\n",
    "    plt.title(\"Predicted {}, Class {}\".format(predicted_classes[correct_idx], test_Y[correct_idx]))\n",
    "    plt.tight_layout()"
   ]
  },
  {
   "cell_type": "code",
   "execution_count": null,
   "metadata": {
    "colab": {
     "base_uri": "https://localhost:8080/"
    },
    "id": "D7ILnfVn_W4I",
    "outputId": "f06e5acd-9d37-4ed1-8b56-562145427b39"
   },
   "outputs": [],
   "source": [
    "# Incorrect predictions\n",
    "incorrect = np.where(predicted_classes != test_Y)[0]\n",
    "print(\"Found %d incorrect labels\" % len(incorrect))\n",
    "for i, incorrect_idx in enumerate(incorrect[:9]):\n",
    "    plt.subplot(3, 3, i+1)\n",
    "    plt.imshow(test_X[incorrect_idx].reshape(28, 28), cmap='gray', interpolation='none')\n",
    "    plt.title(\"Predicted {}, Class {}\".format(predicted_classes[incorrect_idx], test_Y[incorrect_idx]))\n",
    "    plt.tight_layout()"
   ]
  },
  {
   "cell_type": "code",
   "execution_count": null,
   "metadata": {
    "colab": {
     "base_uri": "https://localhost:8080/"
    },
    "id": "i18Flz2-E3Wi",
    "outputId": "863cfafe-b080-4894-86f6-349b2fd92d77"
   },
   "outputs": [],
   "source": [
    "# Classification report\n",
    "target_names = [\"Class {}\".format(i) for i in range(10)]\n",
    "print(classification_report(test_Y, predicted_classes, target_names=target_names))"
   ]
  }
 ],
 "metadata": {
  "accelerator": "GPU",
  "colab": {
   "provenance": []
  },
  "gpuClass": "standard",
  "kernelspec": {
   "display_name": "Python 3",
   "language": "python",
   "name": "python3"
  },
  "language_info": {
   "codemirror_mode": {
    "name": "ipython",
    "version": 3
   },
   "file_extension": ".py",
   "mimetype": "text/x-python",
   "name": "python",
   "nbconvert_exporter": "python",
   "pygments_lexer": "ipython3",
   "version": "3.10.0"
  }
 },
 "nbformat": 4,
 "nbformat_minor": 4
}
